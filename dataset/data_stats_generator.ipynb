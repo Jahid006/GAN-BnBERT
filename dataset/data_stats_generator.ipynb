{
 "cells": [
  {
   "cell_type": "code",
   "execution_count": 7,
   "metadata": {},
   "outputs": [],
   "source": [
    "import pandas as pd\n",
    "import json\n",
    "from glob import glob\n",
    "from collections import defaultdict"
   ]
  },
  {
   "cell_type": "code",
   "execution_count": null,
   "metadata": {},
   "outputs": [
    {
     "data": {
      "text/plain": [
       "30"
      ]
     },
     "metadata": {},
     "output_type": "display_data"
    }
   ],
   "source": [
    "files = glob(\"dataset/BNIntent30/*.json\")\n",
    "\n",
    "\n",
    "text = '\\t'.join(['Class', 'n(train data)', 'n(val data)', 'n(test data)', 'n(total data)'])\n",
    "\n",
    "for f in files:\n",
    "    data = json.load(open(f, 'r'))\n",
    "    dd = defaultdict(list)\n",
    "    i = 0 \n",
    "    for d in data:\n",
    "        if d['text'] != \"TRANSLATION_FAILED\":\n",
    "            dd[d['split']].append(d)\n",
    "            i +=1\n",
    "    \n",
    "    text += '\\n' + '\\t'.join([d['intent']]+[str(len(v)) for k, v in dd.items()]+[str(i)])\n",
    "\n",
    "with open('stats.tsv', 'w') as f:\n",
    "    f.write(text)\n"
   ]
  }
 ],
 "metadata": {
  "kernelspec": {
   "display_name": "Python 3.8.10 64-bit",
   "language": "python",
   "name": "python3"
  },
  "language_info": {
   "codemirror_mode": {
    "name": "ipython",
    "version": 3
   },
   "file_extension": ".py",
   "mimetype": "text/x-python",
   "name": "python",
   "nbconvert_exporter": "python",
   "pygments_lexer": "ipython3",
   "version": "3.8.10"
  },
  "orig_nbformat": 4,
  "vscode": {
   "interpreter": {
    "hash": "916dbcbb3f70747c44a77c7bcd40155683ae19c65e1c03b4aa3499c5328201f1"
   }
  }
 },
 "nbformat": 4,
 "nbformat_minor": 2
}
